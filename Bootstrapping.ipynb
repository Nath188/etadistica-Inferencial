{
  "nbformat": 4,
  "nbformat_minor": 0,
  "metadata": {
    "colab": {
      "provenance": [],
      "authorship_tag": "ABX9TyMe5qkXJX9qML3tBcdQYDF3",
      "include_colab_link": true
    },
    "kernelspec": {
      "name": "python3",
      "display_name": "Python 3"
    },
    "language_info": {
      "name": "python"
    }
  },
  "cells": [
    {
      "cell_type": "markdown",
      "metadata": {
        "id": "view-in-github",
        "colab_type": "text"
      },
      "source": [
        "<a href=\"https://colab.research.google.com/github/Nath188/etadistica-Inferencial/blob/main/Bootstrapping.ipynb\" target=\"_parent\"><img src=\"https://colab.research.google.com/assets/colab-badge.svg\" alt=\"Open In Colab\"/></a>"
      ]
    },
    {
      "cell_type": "code",
      "execution_count": 1,
      "metadata": {
        "id": "MDXoQMjGGKZV"
      },
      "outputs": [],
      "source": [
        "import pandas as ps\n",
        "import numpy as np\n",
        "import random "
      ]
    },
    {
      "cell_type": "code",
      "source": [
        "data = np.random.normal (loc = 34, size = 10000)\n",
        "data"
      ],
      "metadata": {
        "colab": {
          "base_uri": "https://localhost:8080/"
        },
        "id": "knKTFKt5Gg0c",
        "outputId": "9133e31d-9904-400e-b5f6-1179c72bceaa"
      },
      "execution_count": 2,
      "outputs": [
        {
          "output_type": "execute_result",
          "data": {
            "text/plain": [
              "array([32.72715295, 34.27566258, 33.96587279, ..., 34.68551312,\n",
              "       34.72924604, 33.78860959])"
            ]
          },
          "metadata": {},
          "execution_count": 2
        }
      ]
    },
    {
      "cell_type": "code",
      "source": [
        "data.mean()"
      ],
      "metadata": {
        "colab": {
          "base_uri": "https://localhost:8080/"
        },
        "id": "E9FiKGOZGyjH",
        "outputId": "62cf4a4a-aaf1-4215-a520-b33bf8d938a8"
      },
      "execution_count": 3,
      "outputs": [
        {
          "output_type": "execute_result",
          "data": {
            "text/plain": [
              "34.01552186049866"
            ]
          },
          "metadata": {},
          "execution_count": 3
        }
      ]
    },
    {
      "cell_type": "markdown",
      "source": [
        "inicia proceso de bootstrapping para calcular media de edades\n"
      ],
      "metadata": {
        "id": "7guq0P9dG6Cp"
      }
    },
    {
      "cell_type": "code",
      "source": [
        "promedio =[]\n",
        "for i in range(40):\n",
        "  muestra = random.sample(data.tolist(), 5)\n",
        "  prom = np.mean(muestra)\n",
        "  promedio.append(prom)"
      ],
      "metadata": {
        "id": "JVKQdovKHAa4"
      },
      "execution_count": 5,
      "outputs": []
    },
    {
      "cell_type": "code",
      "source": [
        "np.mean(promedio)"
      ],
      "metadata": {
        "colab": {
          "base_uri": "https://localhost:8080/"
        },
        "id": "TaqPcS0zHkvW",
        "outputId": "1b30db85-27ef-4f66-d40b-69d673d5846e"
      },
      "execution_count": 6,
      "outputs": [
        {
          "output_type": "execute_result",
          "data": {
            "text/plain": [
              "34.00431337285694"
            ]
          },
          "metadata": {},
          "execution_count": 6
        }
      ]
    }
  ]
}