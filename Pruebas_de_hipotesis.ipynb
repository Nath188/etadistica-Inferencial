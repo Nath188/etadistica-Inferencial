{
  "nbformat": 4,
  "nbformat_minor": 0,
  "metadata": {
    "colab": {
      "provenance": [],
      "authorship_tag": "ABX9TyN4fKpkyppBlY8zXSsPv7t7",
      "include_colab_link": true
    },
    "kernelspec": {
      "name": "python3",
      "display_name": "Python 3"
    },
    "language_info": {
      "name": "python"
    }
  },
  "cells": [
    {
      "cell_type": "markdown",
      "metadata": {
        "id": "view-in-github",
        "colab_type": "text"
      },
      "source": [
        "<a href=\"https://colab.research.google.com/github/Nath188/etadistica-Inferencial/blob/main/Pruebas_de_hipotesis.ipynb\" target=\"_parent\"><img src=\"https://colab.research.google.com/assets/colab-badge.svg\" alt=\"Open In Colab\"/></a>"
      ]
    },
    {
      "cell_type": "code",
      "execution_count": null,
      "metadata": {
        "id": "UIRp6Sc05ZS0"
      },
      "outputs": [],
      "source": [
        "import pandas as pd\n",
        "import numpy as np\n",
        "import seaborn as sns\n",
        "import scipy.stats as st\n",
        "from scipy.stats import f_oneway\n",
        "from scipy.stats import ttest_ind"
      ]
    },
    {
      "cell_type": "markdown",
      "source": [
        "#### usaremos bases de datos iris "
      ],
      "metadata": {
        "id": "QQPLt3bT5nOk"
      }
    },
    {
      "cell_type": "code",
      "source": [
        "\n",
        "url = \"https://archive.ics.uci.edu/ml/machine-learning-databases/iris/iris.data\"\n",
        "names = ['sepal-length','sepal-width', 'petal-lenght', 'petal-width', 'class']\n",
        "iris = pd.read_csv(url,names = names)\n",
        "iris.head()"
      ],
      "metadata": {
        "id": "GH3TI1835lbv"
      },
      "execution_count": null,
      "outputs": []
    },
    {
      "cell_type": "markdown",
      "source": [
        "# **tipos de pruebas**\n"
      ],
      "metadata": {
        "id": "z0Je12ZM_pt8"
      }
    },
    {
      "cell_type": "markdown",
      "source": [
        "### prueba Distribucion t Student"
      ],
      "metadata": {
        "id": "Xlz3UGOJ_sod"
      }
    },
    {
      "cell_type": "markdown",
      "source": [
        "![formula3_69483c43-a3f4-4ff0-a9d5-726b4b889f38.webp](data:image/webp;base64,UklGRowFAABXRUJQVlA4TIAFAAAv1cAeAAW1bdsOOdKPuqqZ9Ni2PROMbVvJjpEjG49t27ZtHp5pJel+PlTVW727yVufdjei/xMg//v/X54j79/ax11DuKC7F8UBbmF/XdTdwhKg+ejOpjGzZ89e8tkd7IQOj0XkTX/YI67xTYgucTE/gvmuIdEb30OxjEN317AJZon1O2jsGnrBVZvz0N0tfDFIr7AphRlu4SZkiO0AOOUWTsJ0my8+ulS4haeQZ7OEwFNxi5UBZltd91Aq7nEFjaKmO40Zkah6ErcP3YtZnK2oZmLtyX4Uv7vC5ylKSlX7flpdwNPmoEiJL2b1oiylR6ogicwxgPTp96XK3RCiZ8G5fcvqGAW7jR5ivZiUdq+KRMLXdp8PS5WbzCG0NSki8iULWGzz9sLxAqDV0dNnL5w/d/rwhlFeGF01VdGlGGfE+kMQTtqIyEXgT1G87idXn14GWCL2M/D8UFkF3FSR3qzTpxnwUKGMLqKaAekVSrkc16ZwGrUSCkf4QyUegEGivIGH2nQDAhGFvZxWuQIUW10/YcrjhzbtAU6oNI6o5AG3rToMM82vKdp8Cqhz0s5hBoQqLZ5SZjq7VZ/eGgCdl5yPOosHYLBYDuWeSatHmgB/xrZKB1eApV+/f3l9Zgg1E9r1oYUVkFWhlofqMEnp2f6pHhXWAfk822/DHLUMSJs4YfzY/jWhNDUX+qlnZGRkZmVn9+8/YKQeiPw6OruVBXdUYgEYIuafjbmbGi1+v8YPrFO5BJRYSP8aCVP4noaJXAEmqawC7lq1GibmhenxfwxV5t9m8xUVaQ3jVfpCjYRFuXej6XvabNGkb0aB0nRYqRD1w1CxrhRzPo/+OdXtUfYrTYOLCheAEhvLcL0+4vRDYarL4tXdfHaqJJrQKKGwHLirtoADjtaS6tDH6q4j01TOwHpR7AmhhNJlT4MKR1KR6kqp5r8bNPhh96MpPRIKYS8MFtVzaawSXT4GZJZbfelL07eiuB8otKu8PMLA+0mbcujYk6Zr35RLeEtjWr0V63vDM7t6gOYZ/QcOHJDdu30QYLxoc+dmnyqLAmDU8eFfERPbgoDXY+DQ8ATuaFNyyEsRebs1d1DnYdu/S3XPX//30UyXsneYuNFw7XGupJiHbiRWf7i40fXcdiPljfuLG93GFTeSaNlH7I/k5uTk5OSuiNskVixdXVBSXJD3Z1i79nFWoRvWe22eYGt80a1k+66i+OX5w7WmHjbJl6dnQ4OSCx9Et49xVEVE8mkO3LESkYS38TvR8O7tkw6y6x4BJiu8JEc0/Bz7RL08OLqyCfi/2O3ihI71a5lwcI2NUgDk2033/NCwa2wXh/k8ka8BaFRp06KLaPigJuVOsusmRaYCB60+8oeG3WO9OCwPjhaRu0Bfq72c0rBR9WNOrrFBRKQX8NBihueXDu17pPbUKBan+Tw27QemW7TsLvobn0m22qTaYUfZdZOm8voQ/CEiH1iiP687A/dVXnvyxGl5cLRYrgZKRGQPZ7TnZM3mQRivMjP0w9E1Nlp99kHzhMg0T1h3Xhrjfs8Fz1u7j/6l4jifp1YyHjgp0qyHaO9jkVceyLFbGPzirH99sb0G9Je3LNUf82gI/bT6ElwojsuD4+ykExgvdnJWj24BRVZL/R+dXWOLwjZg4WRvWI+kHzQsN/0IzRLn+TxXiNaCmg17iyafBHaY8jyvU5BVX1RzAZbrUrIttEuKhGtPEuexwFilVwZwXpdkB3BSpNh4moJTrFOSIeCLaFO8AfSVaP3R4jh5qQ79y5XOQm/R50Lg5lruO9neNwRQp/sGhWRrVmjUjxAMbjBYnI5JD9WqXTPNZ5QoyBbPVY2SXICbjlzgey9kiQudBJfcyGN6iyvd98ad/Ad/)"
      ],
      "metadata": {
        "id": "1-opUiZeACl5"
      }
    },
    {
      "cell_type": "code",
      "source": [
        "se_length = iris.std ()['sepal-length']/np.sqrt(10)\n",
        "se_width = iris.std ()['sepal-width']/np.sqrt(10)"
      ],
      "metadata": {
        "id": "iFPT3ldvAE4P"
      },
      "execution_count": null,
      "outputs": []
    },
    {
      "cell_type": "markdown",
      "source": [
        "![formula4_267ebf49-d532-400e-b2a3-503633485b20.webp](data:image/webp;base64,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)"
      ],
      "metadata": {
        "id": "Z30kz8pwBDOn"
      }
    },
    {
      "cell_type": "code",
      "source": [
        "sed = np.sqrt ((se_length**2)+(se_width**2))"
      ],
      "metadata": {
        "id": "dmZNpaSQBJiU"
      },
      "execution_count": null,
      "outputs": []
    },
    {
      "cell_type": "markdown",
      "source": [
        "![formula6_c18049f7-5de4-401e-bf12-0c39cb24c5a9.webp](data:image/webp;base64,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)![formula5_65d07da6-4037-42dc-ba6e-5fc20a15b362.webp](data:image/webp;base64,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)"
      ],
      "metadata": {
        "id": "UKqUOlMOCZXK"
      }
    },
    {
      "cell_type": "code",
      "source": [
        "t_stat = (iris.mean() ['sepal-length']- iris.mean()['sepal-width'])/sed\n",
        "t_stat"
      ],
      "metadata": {
        "colab": {
          "base_uri": "https://localhost:8080/"
        },
        "id": "AOguGXDGB_zh",
        "outputId": "08f4788d-4750-4316-b9f7-6bca9844b9b5"
      },
      "execution_count": 10,
      "outputs": [
        {
          "output_type": "stream",
          "name": "stderr",
          "text": [
            "<ipython-input-10-b215582335b2>:1: FutureWarning: Dropping of nuisance columns in DataFrame reductions (with 'numeric_only=None') is deprecated; in a future version this will raise TypeError.  Select only valid columns before calling the reduction.\n",
            "  t_stat = (iris.mean() ['sepal-length']- iris.mean()['sepal-width'])/sed\n"
          ]
        },
        {
          "output_type": "execute_result",
          "data": {
            "text/plain": [
              "9.436693738890318"
            ]
          },
          "metadata": {},
          "execution_count": 10
        }
      ]
    },
    {
      "cell_type": "code",
      "source": [
        "p =  ttest_ind(iris['sepal-length'], iris['sepal-width'])\n",
        "p"
      ],
      "metadata": {
        "colab": {
          "base_uri": "https://localhost:8080/"
        },
        "id": "hAxB0uDkBB4Z",
        "outputId": "6355faeb-ee40-48b6-cd60-61c11fb282f9"
      },
      "execution_count": 11,
      "outputs": [
        {
          "output_type": "execute_result",
          "data": {
            "text/plain": [
              "Ttest_indResult(statistic=36.548157693982006, pvalue=3.987838114848222e-112)"
            ]
          },
          "metadata": {},
          "execution_count": 11
        }
      ]
    },
    {
      "cell_type": "markdown",
      "source": [
        "# **Correlacion y coeficiente pearson **"
      ],
      "metadata": {
        "id": "ZibJ1G7yDy_8"
      }
    },
    {
      "cell_type": "code",
      "source": [
        "iris['sepal-length'].corr(iris['sepal-width'])"
      ],
      "metadata": {
        "colab": {
          "base_uri": "https://localhost:8080/"
        },
        "id": "JnZIV5wMDJbr",
        "outputId": "1a4fb750-4785-4706-f2db-1136af397117"
      },
      "execution_count": 12,
      "outputs": [
        {
          "output_type": "execute_result",
          "data": {
            "text/plain": [
              "-0.10936924995064937"
            ]
          },
          "metadata": {},
          "execution_count": 12
        }
      ]
    },
    {
      "cell_type": "code",
      "source": [
        "st.pearsonr(iris['sepal-length'], iris['sepal-width'])"
      ],
      "metadata": {
        "colab": {
          "base_uri": "https://localhost:8080/"
        },
        "id": "MOaFF-1dEaJu",
        "outputId": "2b35ffca-b36b-427e-be10-9460518d75c1"
      },
      "execution_count": 13,
      "outputs": [
        {
          "output_type": "execute_result",
          "data": {
            "text/plain": [
              "(-0.10936924995064937, 0.1827652152713699)"
            ]
          },
          "metadata": {},
          "execution_count": 13
        }
      ]
    },
    {
      "cell_type": "markdown",
      "source": [
        "#**ANOVA** analisis de la varianza"
      ],
      "metadata": {
        "id": "UU6i0engEsLN"
      }
    },
    {
      "cell_type": "code",
      "source": [
        "f_oneway(iris['sepal-length'], iris['sepal-width'])"
      ],
      "metadata": {
        "colab": {
          "base_uri": "https://localhost:8080/"
        },
        "id": "rRtSAhTZE5qE",
        "outputId": "6ad3bded-ecff-43ad-908e-78df780733d2"
      },
      "execution_count": 15,
      "outputs": [
        {
          "output_type": "execute_result",
          "data": {
            "text/plain": [
              "F_onewayResult(statistic=1335.7678308241748, pvalue=3.9878381148486907e-112)"
            ]
          },
          "metadata": {},
          "execution_count": 15
        }
      ]
    }
  ]
}